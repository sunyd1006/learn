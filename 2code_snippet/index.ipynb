{
 "cells": [
  {
   "cell_type": "markdown",
   "metadata": {
    "vscode": {
     "languageId": "plaintext"
    }
   },
   "source": [
    "# basic"
   ]
  },
  {
   "cell_type": "markdown",
   "metadata": {},
   "source": [
    "[epoll_demo](cpp/io_multiplexing/epoll_demo.cpp)\n",
    "\n",
    "\n",
    "[long polling](go/3long_polling.go)\n",
    "\n",
    "https://zh.javascript.info/long-polling"
   ]
  },
  {
   "cell_type": "markdown",
   "metadata": {},
   "source": [
    "[goroutine_pool](go/2goroutine_pool.go) \n",
    "* 固定的channel， 固定的 gorountine workers来限制 task并发，避免task并发占用大量的协程造成系统调度困难。\n",
    "* 在大量异步任务中，如果执行同步任务，最好用线程池来执行这些同步任务，避免大量的同步任务占用过多的线程（协程）资源\n",
    "\n",
    "[go_working_pool](https://pkg.go.dev/github.com/gammazero/workerpool#:~:text=Package%20workerpool%20queues%20work%20to,a%20limited%20number%20of%20goroutines)"
   ]
  }
 ],
 "metadata": {
  "language_info": {
   "name": "python"
  }
 },
 "nbformat": 4,
 "nbformat_minor": 2
}
