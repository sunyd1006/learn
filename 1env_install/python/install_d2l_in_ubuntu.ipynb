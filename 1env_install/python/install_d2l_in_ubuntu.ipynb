{
 "cells": [
  {
   "cell_type": "markdown",
   "metadata": {},
   "source": [
    "## 卸载老版本 cuda-toolkit"
   ]
  },
  {
   "cell_type": "markdown",
   "metadata": {
    "vscode": {
     "languageId": "plaintext"
    }
   },
   "source": [
    "清楚系统预装的 cuda-toolkit, 不然多个版本的cuda可能版本优先级的问题\n",
    "\n",
    "1. 卸载apt-get 安装的显卡驱动\n",
    "sudo apt-get remove --purge nvidia-cuda-toolkit"
   ]
  },
  {
   "cell_type": "markdown",
   "metadata": {},
   "source": [
    "2. 卸载通过local包手动安装的 CUDA Toolkit\n",
    "(base) yusi@yusi-Z790-D:~/sunyindong.syd$ sudo sh cuda_12.1.0_530.30.02_linux.run\n",
    "===========\n",
    "= Summary =\n",
    "===========\n",
    "\n",
    "Driver:   Not Selected\n",
    "Toolkit:  Installed in /usr/local/cuda-12.1/\n",
    "\n",
    "Please make sure that\n",
    " -   PATH includes /usr/local/cuda-12.1/bin\n",
    " -   LD_LIBRARY_PATH includes /usr/local/cuda-12.1/lib64, or, add /usr/local/cuda-12.1/lib64 to /etc/ld.so.conf and run ldconfig as root\n",
    "\n",
    "To uninstall the CUDA Toolkit, run cuda-uninstaller in /usr/local/cuda-12.1/bin\n",
    "***WARNING: Incomplete installation! This installation did not install the CUDA Driver. A driver of version at least 530.00 is required for CUDA 12.1 functionality to work.\n",
    "To install the driver using this installer, run the following command, replacing <CudaInstaller> with the name of this run file:\n",
    "    sudo <CudaInstaller>.run --silent --driver\n",
    "\n",
    "Logfile is /var/log/cuda-installer.log\n",
    "\u0000"
   ]
  },
  {
   "cell_type": "markdown",
   "metadata": {},
   "source": [
    "# 安装 cuda-toolkit"
   ]
  },
  {
   "cell_type": "code",
   "execution_count": null,
   "metadata": {
    "vscode": {
     "languageId": "plaintext"
    }
   },
   "outputs": [],
   "source": [
    "\n",
    "基本教程：https://blog.csdn.net/weixin_37926734/article/details/123033286\n",
    "\n",
    "cuda网址：https://developer.nvidia.com/cuda-11-8-0-download-archiv\n",
    "\n",
    "ubuntu卸载旧cuda：https://blog.csdn.net/qq_63379469/article/details/123319269\n",
    "\n",
    "pytorch environment in ubuntu22.04: https://hackmd.io/@MoiEdNU7Riqx1D66Hh4xlA/rJWqCbREa\n",
    "\n",
    "*. install nvidia driver\n",
    "* install cuda toolkit,\n",
    "如何选择显卡对应的cuda版本呢：https://developer.aliyun.com/article/1509616，参考nvida的手册\n",
    "* https://docs.nvidia.com/datacenter/tesla/drivers/index.html#cuda-arch-matrix\n",
    "为了去编译cuda程序\n",
    "\n",
    "* 如何卸载旧cuda"
   ]
  },
  {
   "cell_type": "markdown",
   "metadata": {},
   "source": [
    "\n",
    "- 据说12.1.0 是pytorch 开始支持的?的版本，硬件4080限制需要< 12.40\n",
    "https://developer.nvidia.com/cuda-12-1-0-download-archive\n",
    "\n",
    "https://developer.nvidia.com/cuda-12-1-0-download-archive?target_os=Linux&target_arch=x86_64&Distribution=Ubuntu&target_version=22.04&target_type=runfile_local\n",
    "\n",
    "* 未勾选Driver,\n",
    "* 未勾选 nvida-fs"
   ]
  },
  {
   "cell_type": "markdown",
   "metadata": {},
   "source": [
    "(base) yusi@yusi-Z790-D:~$ nvcc -V\n",
    "nvcc: NVIDIA (R) Cuda compiler driver\n",
    "Copyright (c) 2005-2023 NVIDIA Corporation\n",
    "Built on Tue_Feb__7_19:32:13_PST_2023\n",
    "Cuda compilation tools, release 12.1, V12.1.66\n",
    "Build cuda_12.1.r12.1/compiler.32415258_0\n",
    "\u0000"
   ]
  },
  {
   "cell_type": "markdown",
   "metadata": {},
   "source": [
    "# 常见问题"
   ]
  },
  {
   "cell_type": "code",
   "execution_count": null,
   "metadata": {},
   "outputs": [],
   "source": [
    "from torch.utils.collect_env import get_env_info\n",
    "\n",
    "env_info = get_env_info()\n",
    "print(env_info)"
   ]
  },
  {
   "cell_type": "markdown",
   "metadata": {},
   "source": [
    "<!-- pytorch 版本不一致 -->\n",
    "/home/yusi/miniconda3/envs/d2l/lib/python3.9/site-packages/torch/cuda/__init__.py:146: UserWarning: \n",
    "NVIDIA GeForce RTX 4080 SUPER with CUDA capability sm_89 is not compatible with the current PyTorch installation.\n",
    "The current PyTorch install supports CUDA capabilities sm_37 sm_50 sm_60 sm_70.\n",
    "If you want to use the NVIDIA GeForce RTX 4080 SUPER GPU with PyTorch, please check the instructions at https://pytorch.org/get-started/locally/\n",
    "\n",
    "  warnings.warn(incompatible_device_warn.format(device_name, capability, \" \".join(arch_list), device_name))\u0000"
   ]
  }
 ],
 "metadata": {
  "language_info": {
   "name": "python"
  }
 },
 "nbformat": 4,
 "nbformat_minor": 2
}
