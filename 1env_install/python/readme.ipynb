{
 "cells": [
  {
   "cell_type": "markdown",
   "metadata": {},
   "source": [
    "# 基本概念"
   ]
  },
  {
   "cell_type": "markdown",
   "metadata": {},
   "source": [
    "常见概念：\n",
    "\n",
    "1. Nvidia Driver 是CPU和GPU之间通信的桥梁，包含的常见的内容有：\n",
    "- libcuda.so\n",
    "- 安装Nvidia Driver的时候会安装nvidia-smi，它是 System management Interface SMI ，即基于nvml 库的对GPU进行管理和监控的接口。https://stackoverflow.com/questions/53422407/different-cuda-versions-shown-by-nvcc-and-nvidia-smi。\n",
    "\n",
    "2. Nvidia CUDA Tookit 主要包含\n",
    "- 官方安装教程：https://docs.nvidia.com/cuda/cuda-installation-guide-linux/index.html#post-installation-actions\n",
    "- nvcc CUDA程序编译器。 nvcc -V 出现的版本是cuda版本， cudart.so的版本，这出nvcc\n",
    "\n",
    "\n",
    "3. Pytorch版本\n",
    "- pytorch\n",
    "\n",
    "辨析：\n",
    "- Older CUDA toolkits installed by Anaconda can be used with newer versions reported by nvidia-smi, and the fact that nvidia-smi reports a newer/higher CUDA version than the one installed by Anaconda does not mean you have an installation problem。 In most cases, if nvidia-smi reports a CUDA version that is numerically equal to or higher than the one reported by nvcc -V, this is not a cause for concern\n",
    "- when using docker, the nvidia-smi command will generally report the driver version installed on the base machine, whereas other version methods like nvcc --version will report the CUDA version installed inside the docker container。 - https://stackoverflow.com/questions/53422407/different-cuda-versions-shown-by-nvcc-and-nvidia-smi\n",
    "\n",
    "异常快速判断。\n",
    "- 如果nvcc -V 显示的version > nvidia-smi 显示的版本，大概率是有异常的。 通常 nvcc -V <= nvidia-smi显示的版本\n",
    "\n",
    "参考链接：\n",
    "- https://blog.csdn.net/Blackoutdragon/article/details/130233562"
   ]
  },
  {
   "cell_type": "markdown",
   "metadata": {},
   "source": [
    "## 卸载老版本 cuda-toolkit"
   ]
  },
  {
   "cell_type": "markdown",
   "metadata": {
    "vscode": {
     "languageId": "plaintext"
    }
   },
   "source": [
    "\n",
    "安装注意事项：\n",
    "1. 清楚系统预装的 cuda-toolkit, 不然多个版本的cuda可能版本优先级的问题\n",
    "- 卸载apt-get 安装的显卡驱动：sudo apt-get remove --purge nvidia-cuda-toolkit\n",
    "\n",
    "2. 卸载通过local包手动安装的 CUDA Toolkit\n",
    "(base) yusi@yusi-Z790-D:~/sunyindong.syd$ sudo sh cuda_12.1.0_530.30.02_linux.run\n",
    "===========\n",
    "= Summary =\n",
    "===========\n",
    "\n",
    "Driver:   Not Selected\n",
    "Toolkit:  Installed in /usr/local/cuda-12.1/\n",
    "\n",
    "Please make sure that\n",
    " -   PATH includes /usr/local/cuda-12.1/bin\n",
    " -   LD_LIBRARY_PATH includes /usr/local/cuda-12.1/lib64, or, add /usr/local/cuda-12.1/lib64 to /etc/ld.so.conf and run ldconfig as root\n",
    "\n",
    "To uninstall the CUDA Toolkit, run cuda-uninstaller in /usr/local/cuda-12.1/bin\n",
    "***WARNING: Incomplete installation! This installation did not install the CUDA Driver. A driver of version at least 530.00 is required for CUDA 12.1 functionality to work.\n",
    "To install the driver using this installer, run the following command, replacing <CudaInstaller> with the name of this run file:\n",
    "    sudo <CudaInstaller>.run --silent --driver\n",
    "\n",
    "Logfile is /var/log/cuda-installer.log\n",
    "\u0000"
   ]
  },
  {
   "cell_type": "markdown",
   "metadata": {},
   "source": [
    "# 安装 cuda-toolkit"
   ]
  },
  {
   "cell_type": "markdown",
   "metadata": {},
   "source": [
    "\n",
    "基本教程：https://blog.csdn.net/weixin_37926734/article/details/123033286\n",
    "\n",
    "cuda网址：https://developer.nvidia.com/cuda-11-8-0-download-archiv\n",
    "\n",
    "ubuntu卸载旧cuda：https://blog.csdn.net/qq_63379469/article/details/123319269\n",
    "\n",
    "pytorch environment in ubuntu22.04: https://hackmd.io/@MoiEdNU7Riqx1D66Hh4xlA/rJWqCbREa\n",
    "\n",
    "*. install nvidia driver\n",
    "* install cuda toolkit,\n",
    "如何选择显卡对应的cuda版本呢：https://developer.aliyun.com/article/1509616，参考nvida的手册\n",
    "* https://docs.nvidia.com/datacenter/tesla/drivers/index.html#cuda-arch-matrix\n",
    "为了去编译cuda程序\n",
    "\n",
    "* 如何卸载旧cuda"
   ]
  },
  {
   "cell_type": "markdown",
   "metadata": {},
   "source": [
    "(base) yusi@yusi-Z790-D:~$ nvcc -V\n",
    "nvcc: NVIDIA (R) Cuda compiler driver\n",
    "Copyright (c) 2005-2023 NVIDIA Corporation\n",
    "Built on Tue_Feb__7_19:32:13_PST_2023\n",
    "Cuda compilation tools, release 12.1, V12.1.66\n",
    "Build cuda_12.1.r12.1/compiler.32415258_0\n",
    "\u0000"
   ]
  },
  {
   "cell_type": "markdown",
   "metadata": {
    "vscode": {
     "languageId": "plaintext"
    }
   },
   "source": [
    "具体安装步骤如下：\n",
    "1. 根据GPU的型号获取具体的ComputeCapability(CC) ，[官网网址](https://developer.nvidia.com/cuda-gpus)\n",
    "2. 根据CC获取最低支持的CUDA Toolkit版本 [CUDA Toolkit, Driver, and Architecture Matrix](https://docs.nvidia.com/datacenter/tesla/drivers/index.html#cuda-toolkit-driver-and-architecture-matrix) 可以获取Driver-CUDA Toolkit\n",
    "    - 如果没有根据Nvida Driver，那么安装CUDA Toolkit需要确认是否安装了Driver。\n",
    "    - 如果已经安装了Nvida Driver 是需要确定范围区间吗？\n",
    "    - CUDA 任意版本的下载链接：https://developer.nvidia.com/cuda-toolkit-archive\n",
    "3. Pytorch 根据CUDA Toolkit确定Pytorch的版本区间，[Pytorch版本区间链接](https://github.com/pytorch/pytorch/blob/main/RELEASE.md) \n",
    "    - 确定好具体的Pytorch版本区间后，可以下载：https://pytorch.org/get-started/previous-versions/?utm_source=chatgpt.com\n"
   ]
  },
  {
   "cell_type": "markdown",
   "metadata": {},
   "source": [
    "ubuntu安装示例：\n",
    "1. 显卡4080 + ubuntu22.04版本：https://developer.nvidia.com/cuda-12-1-0-download-archive?target_os=Linux&target_arch=x86_64&Distribution=Ubuntu&target_version=22.04&target_type=runfile_local\n",
    "* 未勾选Driver,\n",
    "* 未勾选 nvida-fs\n",
    "\n",
    "2. 安装pytorch\n",
    "conda install pytorch==2.2.2 torchvision==0.17.2 torchaudio==2.2.2 pytorch-cuda=12.1 -c pytorch -c nvidia\n"
   ]
  },
  {
   "cell_type": "markdown",
   "metadata": {},
   "source": [
    "# 常见问题"
   ]
  },
  {
   "cell_type": "code",
   "execution_count": null,
   "metadata": {},
   "outputs": [],
   "source": [
    "from torch.utils.collect_env import get_env_info\n",
    "\n",
    "env_info = get_env_info()\n",
    "print(env_info)"
   ]
  },
  {
   "cell_type": "markdown",
   "metadata": {},
   "source": [
    "<!-- pytorch 版本不一致 -->\n",
    "/home/yusi/miniconda3/envs/d2l/lib/python3.9/site-packages/torch/cuda/__init__.py:146: UserWarning: \n",
    "NVIDIA GeForce RTX 4080 SUPER with CUDA capability sm_89 is not compatible with the current PyTorch installation.\n",
    "The current PyTorch install supports CUDA capabilities sm_37 sm_50 sm_60 sm_70.\n",
    "If you want to use the NVIDIA GeForce RTX 4080 SUPER GPU with PyTorch, please check the instructions at https://pytorch.org/get-started/locally/\n",
    "\n",
    "  warnings.warn(incompatible_device_warn.format(device_name, capability, \" \".join(arch_list), device_name))\u0000"
   ]
  },
  {
   "cell_type": "markdown",
   "metadata": {},
   "source": [
    "# \n",
    "https://blog.csdn.net/takedachia/article/details/130375718# \n",
    "https://blog.csdn.net/ytusdc/article/details/132403852\n",
    "\n",
    "https://blog.csdn.net/weixin_37926734/article/details/123033286\u0000"
   ]
  },
  {
   "cell_type": "markdown",
   "metadata": {},
   "source": [
    "!hostnamectl\u0000"
   ]
  },
  {
   "cell_type": "markdown",
   "metadata": {},
   "source": [
    "https://developer.nvidia.com/cuda-downloads?target_os=Linux&target_arch=x86_64&Distribution=Ubuntu&target_version=22.04&target_type=deb_network\u0000"
   ]
  }
 ],
 "metadata": {
  "kernelspec": {
   "display_name": "d2l",
   "language": "python",
   "name": "python3"
  },
  "language_info": {
   "name": "python",
   "version": "3.9.19"
  }
 },
 "nbformat": 4,
 "nbformat_minor": 2
}
