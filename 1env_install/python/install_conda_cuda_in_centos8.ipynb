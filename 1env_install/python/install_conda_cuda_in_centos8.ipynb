{
 "cells": [
  {
   "cell_type": "markdown",
   "metadata": {},
   "source": [
    "# 安装显卡驱动和cuda工具包"
   ]
  },
  {
   "cell_type": "markdown",
   "metadata": {},
   "source": [
    "## 1.1 安装显卡驱动"
   ]
  },
  {
   "cell_type": "code",
   "execution_count": null,
   "metadata": {
    "vscode": {
     "languageId": "shellscript"
    }
   },
   "outputs": [
    {
     "name": "stdout",
     "output_type": "stream",
     "text": [
      "00:07.0 3D controller: NVIDIA Corporation TU104GL [Tesla T4] (rev a1)\n"
     ]
    }
   ],
   "source": [
    "# 参考教程：https://blog.csdn.net/weixin_41650348/article/details/115110021\n",
    "\n",
    "# 1. 确认硬件层面是否安装了显卡\n",
    "!lspci | grep -i nvidia"
   ]
  },
  {
   "cell_type": "code",
   "execution_count": 13,
   "metadata": {
    "vscode": {
     "languageId": "shellscript"
    }
   },
   "outputs": [
    {
     "name": "stdout",
     "output_type": "stream",
     "text": [
      "   Static hostname: iZ8vb82sxqn0j7ocejxa0xZ\n",
      "         Icon name: computer-vm\n",
      "           Chassis: vm\n",
      "        Machine ID: 93ab0afcd78545ce93d78286c37a5d32\n",
      "           Boot ID: 3c87723d7d244ec8bc5d8ae8cde4b456\n",
      "    Virtualization: kvm\n",
      "  Operating System: \u001b]8;;https://www.aliyun.com/\u0007Alibaba Cloud Linux 3.2104 U11 (OpenAnolis Edition)\u001b]8;;\u0007\n",
      "            Kernel: Linux 5.10.134-18.al8.x86_64\n",
      "      Architecture: x86-64\n"
     ]
    }
   ],
   "source": [
    "# 查看机器的操作系统版本，U11兼用REL8和CentOs8，所以直接当做了REL8来安装对应的cuda\n",
    "# !cat /etc/os-release      # 也可以\n",
    "!hostnamectl\n",
    "#    Static hostname: iZ8vb82sxqn0j7ocejxa0xZ\n",
    "#          Icon name: computer-vm\n",
    "#            Chassis: vm\n",
    "#         Machine ID: 93ab0afcd78545ce93d78286c37a5d32\n",
    "#            Boot ID: 3c87723d7d244ec8bc5d8ae8cde4b456\n",
    "#     Virtualization: kvm\n",
    "#   Operating System: Alibaba Cloud Linux 3.2104 U11 (OpenAnolis Edition)\n",
    "#             Kernel: Linux 5.10.134-18.al8.x86_64\n",
    "#       Architecture: x86-64\n"
   ]
  },
  {
   "cell_type": "code",
   "execution_count": 18,
   "metadata": {
    "vscode": {
     "languageId": "shellscript"
    }
   },
   "outputs": [],
   "source": [
    "# https://developer.nvidia.com/cuda-downloads?target_os=Linux&target_arch=x86_64&Distribution=RHEL&target_version=8&target_type=rpm_network\n",
    "\n",
    "# Driver Installer\n",
    "# sudo dnf -y module install nvidia-driver:open-dkms"
   ]
  },
  {
   "cell_type": "code",
   "execution_count": null,
   "metadata": {
    "vscode": {
     "languageId": "shellscript"
    }
   },
   "outputs": [
    {
     "name": "stdout",
     "output_type": "stream",
     "text": [
      "Sat Mar 15 11:28:42 2025       \n",
      "+-----------------------------------------------------------------------------------------+\n",
      "| NVIDIA-SMI 570.124.06             Driver Version: 570.124.06     CUDA Version: 12.8     |\n",
      "|-----------------------------------------+------------------------+----------------------+\n",
      "| GPU  Name                 Persistence-M | Bus-Id          Disp.A | Volatile Uncorr. ECC |\n",
      "| Fan  Temp   Perf          Pwr:Usage/Cap |           Memory-Usage | GPU-Util  Compute M. |\n",
      "|                                         |                        |               MIG M. |\n",
      "|=========================================+========================+======================|\n",
      "|   0  Tesla T4                       Off |   00000000:00:07.0 Off |                    0 |\n",
      "| N/A   31C    P8              9W /   70W |       3MiB /  15360MiB |      0%      Default |\n",
      "|                                         |                        |                  N/A |\n",
      "+-----------------------------------------+------------------------+----------------------+\n",
      "                                                                                         \n",
      "+-----------------------------------------------------------------------------------------+\n",
      "| Processes:                                                                              |\n",
      "|  GPU   GI   CI              PID   Type   Process name                        GPU Memory |\n",
      "|        ID   ID                                                               Usage      |\n",
      "|=========================================================================================|\n",
      "|  No running processes found                                                             |\n",
      "+-----------------------------------------------------------------------------------------+\n"
     ]
    }
   ],
   "source": [
    "# 验证 显卡驱动安装成功\n",
    "!nvidia-smi"
   ]
  },
  {
   "cell_type": "markdown",
   "metadata": {},
   "source": [
    "## 1.2 安装 cuda 工具包"
   ]
  },
  {
   "cell_type": "code",
   "execution_count": null,
   "metadata": {
    "vscode": {
     "languageId": "shellscript"
    }
   },
   "outputs": [
    {
     "name": "stdout",
     "output_type": "stream",
     "text": [
      "/bin/bash: nvcc: command not found\n"
     ]
    }
   ],
   "source": [
    "# CUDA Toolkit Installer,\n",
    "\n",
    "# 为了防止重复安装，本文选择禁用\n",
    "# sudo dnf config-manager --add-repo https://developer.download.nvidia.com/compute/cuda/repos/rhel8/x86_64/cuda-rhel8.repo\n",
    "# sudo dnf clean all\n",
    "# sudo dnf -y install cuda-toolkit-12-8\n",
    "\n",
    "# !echo 'export PATH=/usr/local/cuda/bin:$PATH' >> ~/.bashrc\n",
    "# !echo 'export LD_LIBRARY_PATH=/usr/local/cuda/lib64:$LD_LIBRARY_PATH' >> ~/.bashrc\n",
    "\n",
    "!source ~/.bashrc\n",
    "!nvcc -V      #查看cuda版本"
   ]
  },
  {
   "cell_type": "code",
   "execution_count": 19,
   "metadata": {},
   "outputs": [
    {
     "name": "stdout",
     "output_type": "stream",
     "text": [
      "True\n"
     ]
    }
   ],
   "source": [
    "# 验证cuda可用\n",
    "import torch\n",
    "print(torch.cuda.is_available())"
   ]
  }
 ],
 "metadata": {
  "kernelspec": {
   "display_name": "d2l",
   "language": "python",
   "name": "python3"
  },
  "language_info": {
   "codemirror_mode": {
    "name": "ipython",
    "version": 3
   },
   "file_extension": ".py",
   "mimetype": "text/x-python",
   "name": "python",
   "nbconvert_exporter": "python",
   "pygments_lexer": "ipython3",
   "version": "3.9.21"
  }
 },
 "nbformat": 4,
 "nbformat_minor": 2
}
