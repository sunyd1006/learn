{
 "cells": [
  {
   "cell_type": "markdown",
   "id": "8e709cee",
   "metadata": {
    "origin_pos": 0
   },
   "source": [
    "《动手学深度学习》\n",
    "========================\n",
    "\n",
    "```eval_rst\n",
    ".. raw:: html\n",
    "   :file: frontpage.html\n",
    "```\n",
    "\n",
    ":begin_tab:toc\n",
    " - [chapter_preface/index](0chapter_preface/index.ipynb)\n",
    " - [chapter_installation/index](0chapter_installation/index.ipynb)\n",
    " - [chapter_notation/index](0chapter_notation/index.ipynb)\n",
    ":end_tab:\n",
    "\n",
    ":begin_tab:toc\n",
    " - [chapter_introduction/index](0chapter_introduction/index.ipynb)\n",
    " - [chapter_preliminaries/index](0chapter_preliminaries/index.ipynb)\n",
    " - [chapter_linear-networks/index](3chapter_linear-networks/index.ipynb)\n",
    " - [chapter_multilayer-perceptrons/index](4chapter_multilayer-perceptrons/index.ipynb)\n",
    " - [chapter_deep-learning-computation/index](5chapter_deep-learning-computation/index.ipynb)\n",
    " - [chapter_convolutional-neural-networks/index](6chapter_convolutional-neural-networks/index.ipynb)\n",
    " - [chapter_convolutional-modern/index](7chapter_convolutional-modern/index.ipynb)\n",
    " - [chapter_recurrent-neural-networks/index](8chapter_recurrent-neural-networks/index.ipynb)\n",
    " - [chapter_recurrent-modern/index](9chapter_recurrent-modern/index.ipynb)\n",
    " - [chapter_attention-mechanisms/index](10chapter_attention-mechanisms/index.ipynb)\n",
    " - [chapter_optimization/index](11chapter_optimization/index.ipynb)\n",
    " - [chapter_computational-performance/index](12chapter_computational-performance/index.ipynb)\n",
    " - [chapter_computer-vision/index](13chapter_computer-vision/index.ipynb)\n",
    " - [chapter_natural-language-processing-pretraining/index](14chapter_natural-language-processing-pretraining/index.ipynb)\n",
    " - [chapter_natural-language-processing-applications/index](15chapter_natural-language-processing-applications/index.ipynb)\n",
    " - [chapter_appendix-tools-for-deep-learning/index](16chapter_appendix-tools-for-deep-learning/index.ipynb)\n",
    ":end_tab:\n",
    "\n",
    ":begin_tab:toc\n",
    " - [chapter_references/zreferences](chapter_references/zreferences.ipynb)\n",
    ":end_tab:\n"
   ]
  }
 ],
 "metadata": {
  "language_info": {
   "name": "python"
  }
 },
 "nbformat": 4,
 "nbformat_minor": 5
}
