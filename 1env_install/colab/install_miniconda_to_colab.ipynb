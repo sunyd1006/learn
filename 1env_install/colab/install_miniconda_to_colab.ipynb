{
  "cells": [
    {
      "cell_type": "markdown",
      "metadata": {
        "id": "view-in-github",
        "colab_type": "text"
      },
      "source": [
        "<a href=\"https://colab.research.google.com/github/sunyd1006/learn/blob/main/colab/install_miniconda_to_colab.ipynb\" target=\"_parent\"><img src=\"https://colab.research.google.com/assets/colab-badge.svg\" alt=\"Open In Colab\"/></a>"
      ]
    },
    {
      "cell_type": "code",
      "source": [
        "from google.colab import drive\n",
        "drive.mount('/content/drive')\n",
        "!cd /content/drive/MyDrive/"
      ],
      "metadata": {
        "id": "-NzVSXQeyFd6",
        "outputId": "043929e7-6a34-4411-c779-21a68d548de1",
        "colab": {
          "base_uri": "https://localhost:8080/"
        }
      },
      "id": "-NzVSXQeyFd6",
      "execution_count": 2,
      "outputs": [
        {
          "output_type": "stream",
          "name": "stdout",
          "text": [
            "Mounted at /content/drive\n"
          ]
        }
      ]
    },
    {
      "cell_type": "markdown",
      "source": [
        "# 安装conda"
      ],
      "metadata": {
        "id": "Kl3b8r6aRLC1"
      },
      "id": "Kl3b8r6aRLC1"
    },
    {
      "cell_type": "code",
      "source": [
        "!wget https://repo.anaconda.com/miniconda/Miniconda3-latest-Linux-x86_64.sh"
      ],
      "metadata": {
        "id": "5HH38PuaGhjo",
        "outputId": "d0c699a7-a09e-4171-8253-d9afc9fe9fb4",
        "colab": {
          "base_uri": "https://localhost:8080/"
        }
      },
      "id": "5HH38PuaGhjo",
      "execution_count": 7,
      "outputs": [
        {
          "output_type": "stream",
          "name": "stdout",
          "text": [
            "--2025-02-23 04:39:22--  https://repo.anaconda.com/miniconda/Miniconda3-latest-Linux-x86_64.sh\n",
            "Resolving repo.anaconda.com (repo.anaconda.com)... 104.16.32.241, 104.16.191.158, 2606:4700::6810:bf9e, ...\n",
            "Connecting to repo.anaconda.com (repo.anaconda.com)|104.16.32.241|:443... connected.\n",
            "HTTP request sent, awaiting response... 200 OK\n",
            "Length: 154615621 (147M) [application/octet-stream]\n",
            "Saving to: ‘Miniconda3-latest-Linux-x86_64.sh’\n",
            "\n",
            "Miniconda3-latest-L 100%[===================>] 147.45M   326MB/s    in 0.5s    \n",
            "\n",
            "2025-02-23 04:39:23 (326 MB/s) - ‘Miniconda3-latest-Linux-x86_64.sh’ saved [154615621/154615621]\n",
            "\n"
          ]
        }
      ]
    },
    {
      "cell_type": "code",
      "source": [
        "!chmod +x Miniconda3-latest-Linux-x86_64.sh; mkdir -p /content/drive/MyDrive/miniconda3"
      ],
      "metadata": {
        "id": "Uc9cU6IxGi13"
      },
      "id": "Uc9cU6IxGi13",
      "execution_count": 9,
      "outputs": []
    },
    {
      "cell_type": "code",
      "source": [
        "#\n",
        "!./Miniconda3-latest-Linux-x86_64.sh -b -f -p /content/drive/MyDrive/miniconda3"
      ],
      "metadata": {
        "id": "_eQLfThmGm_6",
        "outputId": "747eb76d-c55f-4b8a-d1d8-7c613a655147",
        "colab": {
          "base_uri": "https://localhost:8080/"
        }
      },
      "id": "_eQLfThmGm_6",
      "execution_count": 10,
      "outputs": [
        {
          "output_type": "stream",
          "name": "stdout",
          "text": [
            "PREFIX=/content/drive/MyDrive/miniconda3\n",
            "Unpacking payload ...\n",
            "\n",
            "Installing base environment...\n",
            "\n",
            "Preparing transaction: ...working... done\n",
            "Executing transaction: ...working... done\n",
            "installation finished.\n"
          ]
        }
      ]
    },
    {
      "cell_type": "code",
      "source": [
        "# 在/root/.bashrc 中写入激活文件，这样~/.bashrc里面才能在每个新的bash中启动base环境\n",
        "!/content/drive/MyDrive/miniconda3/bin/conda init"
      ],
      "metadata": {
        "id": "r031ngJEI3Zr",
        "outputId": "3e7931a5-06c7-448f-d7dc-732f3559b212",
        "colab": {
          "base_uri": "https://localhost:8080/"
        }
      },
      "id": "r031ngJEI3Zr",
      "execution_count": 15,
      "outputs": [
        {
          "output_type": "stream",
          "name": "stdout",
          "text": [
            "no change     /content/drive/MyDrive/miniconda3/condabin/conda\n",
            "no change     /content/drive/MyDrive/miniconda3/bin/conda\n",
            "no change     /content/drive/MyDrive/miniconda3/bin/conda-env\n",
            "no change     /content/drive/MyDrive/miniconda3/bin/activate\n",
            "no change     /content/drive/MyDrive/miniconda3/bin/deactivate\n",
            "no change     /content/drive/MyDrive/miniconda3/etc/profile.d/conda.sh\n",
            "no change     /content/drive/MyDrive/miniconda3/etc/fish/conf.d/conda.fish\n",
            "no change     /content/drive/MyDrive/miniconda3/shell/condabin/Conda.psm1\n",
            "no change     /content/drive/MyDrive/miniconda3/shell/condabin/conda-hook.ps1\n",
            "no change     /content/drive/MyDrive/miniconda3/lib/python3.12/site-packages/xontrib/conda.xsh\n",
            "no change     /content/drive/MyDrive/miniconda3/etc/profile.d/conda.csh\n",
            "modified      /root/.bashrc\n",
            "\n",
            "==> For changes to take effect, close and re-open your current shell. <==\n",
            "\n"
          ]
        }
      ]
    },
    {
      "cell_type": "code",
      "source": [
        "!/content/drive/MyDrive/miniconda3/bin/conda create --name d2l python=3.9 -y"
      ],
      "metadata": {
        "id": "D3vBTG8JJuou",
        "outputId": "de9b23fd-8df7-4b54-9676-3dd62a9a88e1",
        "colab": {
          "base_uri": "https://localhost:8080/"
        }
      },
      "id": "D3vBTG8JJuou",
      "execution_count": 16,
      "outputs": [
        {
          "output_type": "stream",
          "name": "stdout",
          "text": [
            "Channels:\n",
            " - defaults\n",
            "Platform: linux-64\n",
            "Collecting package metadata (repodata.json): - \b\b\\ \b\b| \b\b/ \b\b- \b\b\\ \b\b| \b\b/ \b\b- \b\b\\ \b\b| \b\b/ \b\b- \b\b\\ \b\b| \b\bdone\n",
            "Solving environment: - \b\bdone\n",
            "\n",
            "## Package Plan ##\n",
            "\n",
            "  environment location: /content/drive/MyDrive/miniconda3/envs/d2l\n",
            "\n",
            "  added / updated specs:\n",
            "    - python=3.9\n",
            "\n",
            "\n",
            "The following packages will be downloaded:\n",
            "\n",
            "    package                    |            build\n",
            "    ---------------------------|-----------------\n",
            "    pip-25.0                   |   py39h06a4308_0         2.3 MB\n",
            "    python-3.9.21              |       he870216_1        25.1 MB\n",
            "    setuptools-75.8.0          |   py39h06a4308_0         1.6 MB\n",
            "    wheel-0.45.1               |   py39h06a4308_0         114 KB\n",
            "    xz-5.6.4                   |       h5eee18b_1         567 KB\n",
            "    ------------------------------------------------------------\n",
            "                                           Total:        29.7 MB\n",
            "\n",
            "The following NEW packages will be INSTALLED:\n",
            "\n",
            "  _libgcc_mutex      pkgs/main/linux-64::_libgcc_mutex-0.1-main \n",
            "  _openmp_mutex      pkgs/main/linux-64::_openmp_mutex-5.1-1_gnu \n",
            "  ca-certificates    pkgs/main/linux-64::ca-certificates-2024.12.31-h06a4308_0 \n",
            "  ld_impl_linux-64   pkgs/main/linux-64::ld_impl_linux-64-2.40-h12ee557_0 \n",
            "  libffi             pkgs/main/linux-64::libffi-3.4.4-h6a678d5_1 \n",
            "  libgcc-ng          pkgs/main/linux-64::libgcc-ng-11.2.0-h1234567_1 \n",
            "  libgomp            pkgs/main/linux-64::libgomp-11.2.0-h1234567_1 \n",
            "  libstdcxx-ng       pkgs/main/linux-64::libstdcxx-ng-11.2.0-h1234567_1 \n",
            "  ncurses            pkgs/main/linux-64::ncurses-6.4-h6a678d5_0 \n",
            "  openssl            pkgs/main/linux-64::openssl-3.0.15-h5eee18b_0 \n",
            "  pip                pkgs/main/linux-64::pip-25.0-py39h06a4308_0 \n",
            "  python             pkgs/main/linux-64::python-3.9.21-he870216_1 \n",
            "  readline           pkgs/main/linux-64::readline-8.2-h5eee18b_0 \n",
            "  setuptools         pkgs/main/linux-64::setuptools-75.8.0-py39h06a4308_0 \n",
            "  sqlite             pkgs/main/linux-64::sqlite-3.45.3-h5eee18b_0 \n",
            "  tk                 pkgs/main/linux-64::tk-8.6.14-h39e8969_0 \n",
            "  tzdata             pkgs/main/noarch::tzdata-2025a-h04d1e81_0 \n",
            "  wheel              pkgs/main/linux-64::wheel-0.45.1-py39h06a4308_0 \n",
            "  xz                 pkgs/main/linux-64::xz-5.6.4-h5eee18b_1 \n",
            "  zlib               pkgs/main/linux-64::zlib-1.2.13-h5eee18b_1 \n",
            "\n",
            "\n",
            "\n",
            "Downloading and Extracting Packages:\n",
            "python-3.9.21        | 25.1 MB   | :   0% 0/1 [00:00<?, ?it/s]\n",
            "pip-25.0             | 2.3 MB    | :   0% 0/1 [00:00<?, ?it/s]\u001b[A\n",
            "\n",
            "setuptools-75.8.0    | 1.6 MB    | :   0% 0/1 [00:00<?, ?it/s]\u001b[A\u001b[A\n",
            "\n",
            "\n",
            "xz-5.6.4             | 567 KB    | :   0% 0/1 [00:00<?, ?it/s]\u001b[A\u001b[A\u001b[A\n",
            "\n",
            "\n",
            "\n",
            "python-3.9.21        | 25.1 MB   | :   3% 0.030492157465533874/1 [00:00<00:03,  3.28s/it]\n",
            "\n",
            "setuptools-75.8.0    | 1.6 MB    | :  39% 0.3946467388111436/1 [00:00<00:00,  3.93it/s]\u001b[A\u001b[A\n",
            "pip-25.0             | 2.3 MB    | :  67% 0.6713205420753874/1 [00:00<00:00,  6.58it/s]\u001b[A\n",
            "\n",
            "\n",
            "\n",
            "wheel-0.45.1         | 114 KB    | : 100% 1.0/1 [00:00<00:00,  9.15it/s]\u001b[A\u001b[A\u001b[A\u001b[A\n",
            "\n",
            "\n",
            "\n",
            "wheel-0.45.1         | 114 KB    | : 100% 1.0/1 [00:00<00:00,  9.15it/s]\u001b[A\u001b[A\u001b[A\u001b[A\n",
            "\n",
            "\n",
            "xz-5.6.4             | 567 KB    | : 100% 1.0/1 [00:00<00:00,  8.09it/s]\u001b[A\u001b[A\u001b[A\n",
            "\n",
            "\n",
            "xz-5.6.4             | 567 KB    | : 100% 1.0/1 [00:00<00:00,  8.09it/s]\u001b[A\u001b[A\u001b[A\n",
            "\n",
            "setuptools-75.8.0    | 1.6 MB    | : 100% 1.0/1 [00:00<00:00,  3.93it/s]               \u001b[A\u001b[A\n",
            "python-3.9.21        | 25.1 MB   | : 100% 1.0/1 [00:01<00:00,  1.26it/s]              \n",
            "\n",
            "\n",
            "\n",
            "wheel-0.45.1         | 114 KB    | : 100% 1.0/1 [00:02<00:00,  9.15it/s]\u001b[A\u001b[A\u001b[A\u001b[A\n",
            "\n",
            "\n",
            "xz-5.6.4             | 567 KB    | : 100% 1.0/1 [00:04<00:00,  8.09it/s]\u001b[A\u001b[A\u001b[A\n",
            "\n",
            "setuptools-75.8.0    | 1.6 MB    | : 100% 1.0/1 [00:23<00:00, 26.33s/it]\u001b[A\u001b[A\n",
            "\n",
            "setuptools-75.8.0    | 1.6 MB    | : 100% 1.0/1 [00:23<00:00, 26.33s/it]\u001b[A\u001b[A\n",
            "                                                                        \n",
            "                                                                        \u001b[A\n",
            "\n",
            "                                                                        \u001b[A\u001b[A\n",
            "\n",
            "\n",
            "                                                                        \u001b[A\u001b[A\u001b[A\n",
            "\n",
            "\n",
            "\n",
            "                                                                        \u001b[A\u001b[A\u001b[A\u001b[A\n",
            "Preparing transaction: - \b\b\\ \b\b| \b\b/ \b\b- \b\b\\ \b\b| \b\bdone\n",
            "Verifying transaction: - \b\b\\ \b\b| \b\b/ \b\b- \b\b\\ \b\b| \b\b/ \b\b- \b\b\\ \b\b| \b\b/ \b\b- \b\b\\ \b\b| \b\b/ \b\b- \b\b\\ \b\b| \b\b/ \b\b- \b\b\\ \b\b| \b\b/ \b\b- \b\b\\ \b\b| \b\b/ \b\b- \b\b\\ \b\b| \b\b/ \b\b- \b\b\\ \b\b| \b\b/ \b\b- \b\b\\ \b\b| \b\b/ \b\b- \b\b\\ \b\b| \b\b/ \b\b- \b\b\\ \b\b| \b\b/ \b\b- \b\b\\ \b\b| \b\b/ \b\b- \b\b\\ \b\b| \b\b/ \b\b- \b\b\\ \b\b| \b\b/ \b\b- \b\b\\ \b\b| \b\b/ \b\b- \b\b\\ \b\b| \b\b/ \b\b- \b\b\\ \b\b| \b\b/ \b\b- \b\b\\ \b\b| \b\b/ \b\b- \b\b\\ \b\b| \b\b/ \b\b- \b\b\\ \b\b| \b\b/ \b\b- \b\b\\ \b\b| \b\b/ \b\b- \b\b\\ \b\b| \b\b/ \b\b- \b\b\\ \b\b| \b\b/ \b\b- \b\b\\ \b\b| \b\b/ \b\b- \b\b\\ \b\b| \b\b/ \b\b- \b\b\\ \b\b| \b\b/ \b\b- \b\b\\ \b\b| \b\b/ \b\b- \b\b\\ \b\b| \b\b/ \b\b- \b\bdone\n",
            "Executing transaction: | \b\b/ \b\b- \b\b\\ \b\b| \b\b/ \b\b- \b\b\\ \b\b| \b\b/ \b\b- \b\b\\ \b\b| \b\b/ \b\b- \b\b\\ \b\b| \b\b/ \b\b- \b\b\\ \b\b| \b\b/ \b\b- \b\b\\ \b\b| \b\b/ \b\b- \b\b\\ \b\b| \b\b/ \b\b- \b\b\\ \b\b| \b\b/ \b\b- \b\b\\ \b\b| \b\b/ \b\b- \b\b\\ \b\b| \b\b/ \b\b- \b\b\\ \b\b| \b\b/ \b\b- \b\b\\ \b\b| \b\b/ \b\b- \b\b\\ \b\b| \b\b/ \b\b- \b\b\\ \b\b| \b\b/ \b\b- \b\b\\ \b\b| \b\b/ \b\b- \b\b\\ \b\b| \b\b/ \b\b- \b\b\\ \b\b| \b\b/ \b\b- \b\b\\ \b\b| \b\b/ \b\b- \b\b\\ \b\b| \b\b/ \b\b- \b\b\\ \b\b| \b\b/ \b\b- \b\b\\ \b\b| \b\b/ \b\b- \b\b\\ \b\b| \b\b/ \b\b- \b\b\\ \b\b| \b\b/ \b\b- \b\b\\ \b\b| \b\b/ \b\b- \b\b\\ \b\b| \b\b/ \b\b- \b\b\\ \b\b| \b\b/ \b\b- \b\b\\ \b\b| \b\b/ \b\b- \b\b\\ \b\b| \b\b/ \b\b- \b\b\\ \b\b| \b\b/ \b\b- \b\b\\ \b\b| \b\b/ \b\b- \b\b\\ \b\b| \b\b/ \b\b- \b\b\\ \b\b| \b\b/ \b\b- \b\b\\ \b\b| \b\b/ \b\b- \b\b\\ \b\b| \b\b/ \b\b- \b\b\\ \b\b| \b\b/ \b\b- \b\b\\ \b\b| \b\b/ \b\b- \b\b\\ \b\b| \b\b/ \b\b- \b\b\\ \b\b| \b\b/ \b\b- \b\b\\ \b\b| \b\b/ \b\b- \b\b\\ \b\b| \b\b/ \b\b- \b\b\\ \b\b| \b\b/ \b\b- \b\b\\ \b\b| \b\b/ \b\b- \b\b\\ \b\b| \b\b/ \b\b- \b\b\\ \b\b| \b\b/ \b\b- \b\b\\ \b\b| \b\b/ \b\b- \b\b\\ \b\b| \b\b/ \b\b- \b\b\\ \b\b| \b\b/ \b\b- \b\b\\ \b\b| \b\b/ \b\b- \b\b\\ \b\b| \b\b/ \b\b- \b\b\\ \b\b| \b\b/ \b\b- \b\b\\ \b\b| \b\b/ \b\b- \b\b\\ \b\b| \b\b/ \b\b- \b\b\\ \b\b| \b\b/ \b\b- \b\b\\ \b\b| \b\b/ \b\b- \b\b\\ \b\b| \b\b/ \b\b- \b\b\\ \b\b| \b\b/ \b\b- \b\b\\ \b\b| \b\b/ \b\b- \b\b\\ \b\b| \b\b/ \b\b- \b\b\\ \b\b| \b\b/ \b\b- \b\b\\ \b\b| \b\b/ \b\b- \b\b\\ \b\b| \b\b/ \b\b- \b\b\\ \b\b| \b\b/ \b\b- \b\b\\ \b\b| \b\b/ \b\b- \b\b\\ \b\b| \b\b/ \b\b- \b\b\\ \b\b| \b\b/ \b\b- \b\b\\ \b\b| \b\b/ \b\b- \b\b\\ \b\b| \b\b/ \b\b- \b\b\\ \b\b| \b\b/ \b\b- \b\b\\ \b\b| \b\b/ \b\b- \b\b\\ \b\b| \b\b/ \b\b- \b\b\\ \b\b| \b\b/ \b\b- \b\b\\ \b\b| \b\b/ \b\b- \b\b\\ \b\b| \b\b/ \b\b- \b\b\\ \b\b| \b\b/ \b\b- \b\b\\ \b\b| \b\b/ \b\b- \b\b\\ \b\b| \b\b/ \b\b- \b\b\\ \b\b| \b\b/ \b\b- \b\b\\ \b\b| \b\b/ \b\b- \b\b\\ \b\b| \b\b/ \b\b- \b\b\\ \b\b| \b\b/ \b\b- \b\b\\ \b\b| \b\b/ \b\b- \b\b\\ \b\b| \b\b/ \b\b- \b\b\\ \b\b| \b\b/ \b\b- \b\b\\ \b\b| \b\b/ \b\b- \b\b\\ \b\b| \b\b/ \b\b- \b\b\\ \b\b| \b\b/ \b\b- \b\b\\ \b\b| \b\b/ \b\b- \b\b\\ \b\b| \b\b/ \b\b- \b\b\\ \b\b| \b\b/ \b\b- \b\b\\ \b\b| \b\b/ \b\b- \b\b\\ \b\b| \b\b/ \b\b- \b\b\\ \b\b| \b\b/ \b\b- \b\b\\ \b\b| \b\b/ \b\b- \b\b\\ \b\b| \b\b/ \b\b- \b\b\\ \b\b| \b\b/ \b\b- \b\b\\ \b\b| \b\b/ \b\b- \b\b\\ \b\b| \b\b/ \b\b- \b\b\\ \b\b| \b\b/ \b\b- \b\b\\ \b\b| \b\b/ \b\b- \b\b\\ \b\b| \b\b/ \b\b- \b\b\\ \b\b| \b\b/ \b\b- \b\b\\ \b\b| \b\b/ \b\b- \b\b\\ \b\b| \b\b/ \b\b- \b\b\\ \b\b| \b\b/ \b\b- \b\b\\ \b\b| \b\b/ \b\b- \b\b\\ \b\b| \b\b/ \b\b- \b\b\\ \b\b| \b\b/ \b\b- \b\b\\ \b\b| \b\b/ \b\b- \b\b\\ \b\b| \b\b/ \b\b- \b\b\\ \b\b| \b\b/ \b\b- \b\b\\ \b\b| \b\b/ \b\b- \b\b\\ \b\b| \b\b/ \b\b- \b\b\\ \b\b| \b\b/ \b\b- \b\b\\ \b\b| \b\b/ \b\b- \b\b\\ \b\b| \b\b/ \b\b- \b\b\\ \b\b| \b\b/ \b\b- \b\b\\ \b\b| \b\b/ \b\b- \b\b\\ \b\b| \b\b/ \b\b- \b\b\\ \b\b| \b\b/ \b\b- \b\b\\ \b\b| \b\b/ \b\b- \b\b\\ \b\b| \b\b/ \b\b- \b\b\\ \b\b| \b\b/ \b\b- \b\b\\ \b\b| \b\b/ \b\b- \b\b\\ \b\b| \b\b/ \b\b- \b\b\\ \b\b| \b\b/ \b\b- \b\b\\ \b\b| \b\b/ \b\b- \b\b\\ \b\b| \b\b/ \b\b- \b\b\\ \b\b| \b\b/ \b\b- \b\b\\ \b\b| \b\b/ \b\b- \b\b\\ \b\b| \b\b/ \b\b- \b\b\\ \b\b| \b\b/ \b\b- \b\b\\ \b\b| \b\b/ \b\b- \b\b\\ \b\b| \b\b/ \b\b- \b\b\\ \b\b| \b\b/ \b\b- \b\b\\ \b\b| \b\b/ \b\b- \b\b\\ \b\b| \b\b/ \b\b- \b\b\\ \b\b| \b\b/ \b\b- \b\b\\ \b\b| \b\b/ \b\b- \b\b\\ \b\b| \b\b/ \b\b- \b\b\\ \b\b| \b\b/ \b\b- \b\b\\ \b\b| \b\b/ \b\b- \b\b\\ \b\b| \b\b/ \b\b- \b\b\\ \b\b| \b\b/ \b\b- \b\b\\ \b\b| \b\b/ \b\b- \b\b\\ \b\b| \b\b/ \b\b- \b\b\\ \b\b| \b\b/ \b\b- \b\b\\ \b\b| \b\b/ \b\b- \b\b\\ \b\b| \b\b/ \b\b- \b\b\\ \b\b| \b\b/ \b\b- \b\b\\ \b\b| \b\b/ \b\b- \b\b\\ \b\b| \b\b/ \b\b- \b\b\\ \b\b| \b\b/ \b\b- \b\b\\ \b\b| \b\b/ \b\b- \b\b\\ \b\b| \b\b/ \b\b- \b\b\\ \b\b| \b\b/ \b\b- \b\b\\ \b\b| \b\b/ \b\b- \b\b\\ \b\b| \b\b/ \b\b- \b\b\\ \b\b| \b\b/ \b\b- \b\b\\ \b\b| \b\b/ \b\b- \b\b\\ \b\b| \b\b/ \b\b- \b\b\\ \b\b| \b\b/ \b\b- \b\b\\ \b\b| \b\b/ \b\b- \b\b\\ \b\b| \b\b/ \b\b- \b\b\\ \b\b| \b\b/ \b\b- \b\b\\ \b\b| \b\b/ \b\b- \b\b\\ \b\b| \b\b/ \b\b- \b\b\\ \b\b| \b\b/ \b\b- \b\b\\ \b\b| \b\b/ \b\b- \b\b\\ \b\b| \b\b/ \b\b- \b\b\\ \b\b| \b\b/ \b\b- \b\b\\ \b\b| \b\b/ \b\b- \b\b\\ \b\b| \b\b/ \b\b- \b\b\\ \b\b| \b\b/ \b\b- \b\b\\ \b\b| \b\b/ \b\b- \b\b\\ \b\b| \b\b/ \b\b- \b\b\\ \b\b| \b\b/ \b\b- \b\b\\ \b\b| \b\b/ \b\b- \b\b\\ \b\b| \b\b/ \b\b- \b\b\\ \b\b| \b\b/ \b\b- \b\b\\ \b\b| \b\b/ \b\b- \b\b\\ \b\b| \b\b/ \b\b- \b\b\\ \b\b| \b\b/ \b\b- \b\b\\ \b\b| \b\b/ \b\b- \b\b\\ \b\b| \b\b/ \b\b- \b\b\\ \b\b| \b\b/ \b\b- \b\b\\ \b\b| \b\b/ \b\b- \b\b\\ \b\b| \b\b/ \b\b- \b\b\\ \b\b| \b\b/ \b\b- \b\b\\ \b\b| \b\b/ \b\b- \b\b\\ \b\b| \b\b/ \b\b- \b\b\\ \b\b| \b\b/ \b\b- \b\b\\ \b\b| \b\b/ \b\b- \b\b\\ \b\b| \b\b/ \b\b- \b\b\\ \b\b| \b\b/ \b\b- \b\b\\ \b\b| \b\b/ \b\b- \b\b\\ \b\b| \b\b/ \b\b- \b\b\\ \b\b| \b\b/ \b\b- \b\b\\ \b\b| \b\b/ \b\b- \b\b\\ \b\b| \b\b/ \b\b- \b\b\\ \b\b| \b\b/ \b\b- \b\b\\ \b\b| \b\b/ \b\b- \b\b\\ \b\b| \b\b/ \b\b- \b\b\\ \b\b| \b\b/ \b\b- \b\b\\ \b\b| \b\b/ \b\b- \b\b\\ \b\b| \b\b/ \b\b- \b\b\\ \b\b| \b\b/ \b\b- \b\b\\ \b\b| \b\b/ \b\b- \b\b\\ \b\b| \b\b/ \b\b- \b\b\\ \b\b| \b\b/ \b\b- \b\b\\ \b\b| \b\b/ \b\b- \b\b\\ \b\b| \b\b/ \b\b- \b\b\\ \b\b| \b\b/ \b\b- \b\b\\ \b\b| \b\b/ \b\b- \b\b\\ \b\b| \b\b/ \b\b- \b\b\\ \b\b| \b\b/ \b\b- \b\b\\ \b\b| \b\b/ \b\b- \b\b\\ \b\b| \b\b/ \b\b- \b\b\\ \b\b| \b\b/ \b\b- \b\b\\ \b\b| \b\b/ \b\b- \b\b\\ \b\b| \b\b/ \b\b- \b\b\\ \b\b| \b\b/ \b\b- \b\b\\ \b\b| \b\b/ \b\b- \b\b\\ \b\b| \b\b/ \b\b- \b\b\\ \b\b| \b\b/ \b\b- \b\b\\ \b\b| \b\b/ \b\b- \b\b\\ \b\b| \b\b/ \b\b- \b\b\\ \b\b| \b\b/ \b\b- \b\b\\ \b\b| \b\b/ \b\b- \b\b\\ \b\b| \b\b/ \b\b- \b\b\\ \b\b| \b\b/ \b\b- \b\b\\ \b\b| \b\b/ \b\b- \b\b\\ \b\b| \b\b/ \b\b- \b\b\\ \b\b| \b\b/ \b\b- \b\b\\ \b\b| \b\b/ \b\b- \b\b\\ \b\b| \b\b/ \b\b- \b\b\\ \b\b| \b\b/ \b\b- \b\b\\ \b\b| \b\b/ \b\b- \b\b\\ \b\b| \b\b/ \b\b- \b\b\\ \b\b| \b\b/ \b\b- \b\b\\ \b\b| \b\b/ \b\b- \b\b\\ \b\b| \b\b/ \b\b- \b\b\\ \b\b| \b\b/ \b\b- \b\b\\ \b\b| \b\b/ \b\b- \b\b\\ \b\b| \b\b/ \b\b- \b\b\\ \b\b| \b\b/ \b\b- \b\b\\ \b\b| \b\b/ \b\b- \b\b\\ \b\b| \b\b/ \b\b- \b\b\\ \b\b| \b\b/ \b\b- \b\b\\ \b\b| \b\b/ \b\b- \b\b\\ \b\b| \b\b/ \b\b- \b\b\\ \b\b| \b\b/ \b\b- \b\b\\ \b\b| \b\b/ \b\b- \b\b\\ \b\b| \b\b/ \b\b- \b\b\\ \b\b| \b\b/ \b\b- \b\b\\ \b\b| \b\b/ \b\b- \b\b\\ \b\b| \b\b/ \b\b- \b\b\\ \b\b| \b\b/ \b\b- \b\b\\ \b\b| \b\b/ \b\b- \b\b\\ \b\b| \b\b/ \b\b- \b\b\\ \b\b| \b\b/ \b\b- \b\b\\ \b\b| \b\b/ \b\b- \b\b\\ \b\b| \b\b/ \b\b- \b\b\\ \b\b| \b\b/ \b\b- \b\b\\ \b\b| \b\b/ \b\b- \b\b\\ \b\b| \b\b/ \b\b- \b\b\\ \b\b| \b\b/ \b\b- \b\b\\ \b\b| \b\b/ \b\b- \b\b\\ \b\b| \b\b/ \b\b- \b\b\\ \b\b| \b\b/ \b\b- \b\b\\ \b\b| \b\b/ \b\b- \b\b\\ \b\b| \b\b/ \b\b- \b\b\\ \b\b| \b\b/ \b\b- \b\b\\ \b\b| \b\b/ \b\b- \b\b\\ \b\b| \b\b/ \b\b- \b\b\\ \b\b| \b\b/ \b\b- \b\b\\ \b\b| \b\b/ \b\b- \b\b\\ \b\b| \b\b/ \b\b- \b\b\\ \b\b| \b\b/ \b\b- \b\b\\ \b\b| \b\b/ \b\b- \b\b\\ \b\b| \b\b/ \b\b- \b\b\\ \b\b| \b\b/ \b\b- \b\b\\ \b\b| \b\b/ \b\b- \b\b\\ \b\b| \b\b/ \b\b- \b\b\\ \b\b| \b\b/ \b\b- \b\b\\ \b\b| \b\b/ \b\b- \b\b\\ \b\b| \b\b/ \b\b- \b\b\\ \b\b| \b\b/ \b\b- \b\b\\ \b\b| \b\b/ \b\b- \b\b\\ \b\b| \b\b/ \b\b- \b\b\\ \b\bdone\n",
            "#\n",
            "# To activate this environment, use\n",
            "#\n",
            "#     $ conda activate d2l\n",
            "#\n",
            "# To deactivate an active environment, use\n",
            "#\n",
            "#     $ conda deactivate\n",
            "\n"
          ]
        }
      ]
    },
    {
      "cell_type": "code",
      "source": [
        "!cat ~/.bashrc"
      ],
      "metadata": {
        "id": "dyGtZGoKOtDj",
        "outputId": "257751cb-39bb-4a5f-b6ec-5065a2700fe4",
        "colab": {
          "base_uri": "https://localhost:8080/"
        }
      },
      "execution_count": null,
      "outputs": [
        {
          "output_type": "stream",
          "name": "stdout",
          "text": [
            "# If not running interactively, don't do anything\n",
            "[ -z \"$PS1\" ] && return\n",
            "\n",
            "# don't put duplicate lines in the history. See bash(1) for more options\n",
            "# ... or force ignoredups and ignorespace\n",
            "HISTCONTROL=ignoredups:ignorespace\n",
            "\n",
            "# append to the history file, don't overwrite it\n",
            "shopt -s histappend\n",
            "\n",
            "# append to .bash_history on every command\n",
            "PROMPT_COMMAND=\"history -a;$PROMPT_COMMAND\"\n",
            "\n",
            "HISTFILE=/var/log/.bash_history\n",
            "\n",
            "# for setting history length see HISTSIZE and HISTFILESIZE in bash(1)\n",
            "HISTSIZE=1000\n",
            "HISTFILESIZE=2000\n",
            "\n",
            "# check the window size after each command and, if necessary,\n",
            "# update the values of LINES and COLUMNS.\n",
            "shopt -s checkwinsize\n",
            "\n",
            "# make less more friendly for non-text input files, see lesspipe(1)\n",
            "[ -x /usr/bin/lesspipe ] && eval \"$(SHELL=/bin/sh lesspipe)\"\n",
            "\n",
            "PS1='\\[\\033[01;34m\\]\\w\\[\\033[00m\\]\\$ '\n",
            "\n",
            "# enable color support of ls and also add handy aliases\n",
            "if [ -x /usr/bin/dircolors ]; then\n",
            "    test -r ~/.dircolors && eval \"$(dircolors -b ~/.dircolors)\" || eval \"$(dircolors -b)\"\n",
            "    alias ls='ls --color=auto'\n",
            "\n",
            "    alias grep='grep --color=auto'\n",
            "    alias fgrep='fgrep --color=auto'\n",
            "    alias egrep='egrep --color=auto'\n",
            "fi\n",
            "\n",
            "# some more ls aliases\n",
            "alias ll='ls -alF'\n",
            "alias la='ls -A'\n",
            "alias l='ls -CF'\n",
            "\n",
            "\n",
            "# >>> conda initialize >>>\n",
            "# !! Contents within this block are managed by 'conda init' !!\n",
            "__conda_setup=\"$('/content/drive/MyDrive/miniconda3/bin/conda' 'shell.bash' 'hook' 2> /dev/null)\"\n",
            "if [ $? -eq 0 ]; then\n",
            "    eval \"$__conda_setup\"\n",
            "else\n",
            "    if [ -f \"/content/drive/MyDrive/miniconda3/etc/profile.d/conda.sh\" ]; then\n",
            "        . \"/content/drive/MyDrive/miniconda3/etc/profile.d/conda.sh\"\n",
            "    else\n",
            "        export PATH=\"/content/drive/MyDrive/miniconda3/bin:$PATH\"\n",
            "    fi\n",
            "fi\n",
            "unset __conda_setup\n",
            "# <<< conda initialize <<<\n",
            "\n"
          ]
        }
      ],
      "id": "dyGtZGoKOtDj"
    },
    {
      "cell_type": "markdown",
      "source": [],
      "metadata": {
        "id": "CHtNm4BpQVUQ"
      },
      "id": "CHtNm4BpQVUQ"
    },
    {
      "cell_type": "code",
      "source": [
        "import os\n",
        "\n",
        "\"\"\"\n",
        "注意使用!env PATH=new_path:$PATH 都不生效，故而使用如下方式\n",
        "\"\"\"\n",
        "current_path = os.environ[\"PATH\"]\n",
        "new_path = \"/content/drive/MyDrive/miniconda3/bin:\" + current_path\n",
        "os.environ[\"PATH\"] = new_path\n",
        "%env PATH"
      ],
      "metadata": {
        "id": "HMlNpjJVGjAE",
        "outputId": "894ea10c-4fdd-4408-e43b-2973c263bd12",
        "colab": {
          "base_uri": "https://localhost:8080/",
          "height": 53
        }
      },
      "id": "HMlNpjJVGjAE",
      "execution_count": 50,
      "outputs": [
        {
          "output_type": "execute_result",
          "data": {
            "text/plain": [
              "'/content/drive/MyDrive/miniconda3/bin:/opt/bin:/usr/local/nvidia/bin:/usr/local/cuda/bin:/usr/local/sbin:/usr/local/bin:/usr/sbin:/usr/bin:/sbin:/bin:/tools/node/bin:/tools/google-cloud-sdk/bin'"
            ],
            "application/vnd.google.colaboratory.intrinsic+json": {
              "type": "string"
            }
          },
          "metadata": {},
          "execution_count": 50
        }
      ]
    },
    {
      "cell_type": "code",
      "source": [
        "!conda init && conda activate d2l"
      ],
      "metadata": {
        "id": "-zwR4XNvPYpD",
        "outputId": "d44ccdd8-a548-471f-aa29-0f19c1fe7d55",
        "colab": {
          "base_uri": "https://localhost:8080/"
        }
      },
      "id": "-zwR4XNvPYpD",
      "execution_count": 56,
      "outputs": [
        {
          "output_type": "stream",
          "name": "stdout",
          "text": [
            "no change     /content/drive/MyDrive/miniconda3/condabin/conda\n",
            "no change     /content/drive/MyDrive/miniconda3/bin/conda\n",
            "no change     /content/drive/MyDrive/miniconda3/bin/conda-env\n",
            "no change     /content/drive/MyDrive/miniconda3/bin/activate\n",
            "no change     /content/drive/MyDrive/miniconda3/bin/deactivate\n",
            "no change     /content/drive/MyDrive/miniconda3/etc/profile.d/conda.sh\n",
            "no change     /content/drive/MyDrive/miniconda3/etc/fish/conf.d/conda.fish\n",
            "no change     /content/drive/MyDrive/miniconda3/shell/condabin/Conda.psm1\n",
            "no change     /content/drive/MyDrive/miniconda3/shell/condabin/conda-hook.ps1\n",
            "no change     /content/drive/MyDrive/miniconda3/lib/python3.12/site-packages/xontrib/conda.xsh\n",
            "no change     /content/drive/MyDrive/miniconda3/etc/profile.d/conda.csh\n",
            "no change     /root/.bashrc\n",
            "No action taken.\n",
            "\n",
            "CondaError: Run 'conda init' before 'conda activate'\n",
            "\n"
          ]
        }
      ]
    },
    {
      "cell_type": "code",
      "source": [
        "%env PATH_TMP"
      ],
      "metadata": {
        "id": "GDRk3g92PlSD",
        "outputId": "69195031-be64-4572-b36e-400e832daa3b",
        "colab": {
          "base_uri": "https://localhost:8080/",
          "height": 35
        }
      },
      "id": "GDRk3g92PlSD",
      "execution_count": 43,
      "outputs": [
        {
          "output_type": "execute_result",
          "data": {
            "text/plain": [
              "'/content/drive/MyDrive/miniconda3/bin:$PATH'"
            ],
            "application/vnd.google.colaboratory.intrinsic+json": {
              "type": "string"
            }
          },
          "metadata": {},
          "execution_count": 43
        }
      ]
    },
    {
      "cell_type": "code",
      "source": [
        "import sys\n",
        "sys.path.append('/usr/local/lib/python3.8/site-packages/')"
      ],
      "metadata": {
        "id": "Ld9sAvrDPDb-"
      },
      "id": "Ld9sAvrDPDb-",
      "execution_count": null,
      "outputs": []
    },
    {
      "cell_type": "code",
      "source": [
        "!source /content/drive/Othercomputers/sunyd_mac/learn/ml_repo/d2l-zh/pytorch/install_env_in_collab.sh"
      ],
      "metadata": {
        "id": "aU0QCZtmyuUF",
        "outputId": "81784998-8120-44cc-d49c-594059cfa7e5",
        "colab": {
          "base_uri": "https://localhost:8080/"
        }
      },
      "id": "aU0QCZtmyuUF",
      "execution_count": 1,
      "outputs": [
        {
          "output_type": "stream",
          "name": "stdout",
          "text": [
            "/bin/bash: line 1: /content/drive/Othercomputers/sunyd_mac/learn/ml_repo/d2l-zh/pytorch/install_env_in_collab.sh: No such file or directory\n"
          ]
        }
      ]
    },
    {
      "cell_type": "code",
      "source": [
        "!source /content/drive/MyDrive/d2l/bin/activate; python --version\n",
        "!python --version"
      ],
      "metadata": {
        "id": "jF7OMqzizTY_",
        "outputId": "67180b22-cb4f-4de2-8014-40da5b64c3d0",
        "colab": {
          "base_uri": "https://localhost:8080/"
        }
      },
      "id": "jF7OMqzizTY_",
      "execution_count": 20,
      "outputs": [
        {
          "output_type": "stream",
          "name": "stdout",
          "text": [
            "Python 3.11.11\n",
            "Python 3.11.11\n"
          ]
        }
      ]
    }
  ],
  "metadata": {
    "accelerator": "GPU",
    "kernelspec": {
      "display_name": "Python 3",
      "name": "python3"
    },
    "language_info": {
      "name": "python"
    },
    "required_libs": [],
    "colab": {
      "provenance": [],
      "include_colab_link": true
    }
  },
  "nbformat": 4,
  "nbformat_minor": 5
}